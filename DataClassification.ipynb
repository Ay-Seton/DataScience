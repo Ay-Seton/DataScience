{
 "cells": [
  {
   "cell_type": "markdown",
   "id": "ce5dfe80-a281-44d3-9601-bc390c04ea14",
   "metadata": {
    "jp-MarkdownHeadingCollapsed": true
   },
   "source": [
    "# Importing libraries and Global variables"
   ]
  },
  {
   "cell_type": "code",
   "execution_count": 1,
   "id": "7e047c98-423c-4610-a8e8-155fdaf71ec3",
   "metadata": {},
   "outputs": [
    {
     "name": "stderr",
     "output_type": "stream",
     "text": [
      "C:\\Users\\Ayoola\\AppData\\Roaming\\Python\\Python311\\site-packages\\pandas\\core\\arrays\\masked.py:60: UserWarning: Pandas requires version '1.3.6' or newer of 'bottleneck' (version '1.3.5' currently installed).\n",
      "  from pandas.core import (\n",
      "[nltk_data] Downloading package stopwords to\n",
      "[nltk_data]     C:\\Users\\Ayoola\\AppData\\Roaming\\nltk_data...\n",
      "[nltk_data]   Package stopwords is already up-to-date!\n",
      "[nltk_data] Downloading package punkt to\n",
      "[nltk_data]     C:\\Users\\Ayoola\\AppData\\Roaming\\nltk_data...\n",
      "[nltk_data]   Package punkt is already up-to-date!\n",
      "[nltk_data] Downloading package wordnet to\n",
      "[nltk_data]     C:\\Users\\Ayoola\\AppData\\Roaming\\nltk_data...\n",
      "[nltk_data]   Package wordnet is already up-to-date!\n",
      "[nltk_data] Downloading package omw-1.4 to\n",
      "[nltk_data]     C:\\Users\\Ayoola\\AppData\\Roaming\\nltk_data...\n",
      "[nltk_data]   Package omw-1.4 is already up-to-date!\n",
      "[nltk_data] Downloading package vader_lexicon to\n",
      "[nltk_data]     C:\\Users\\Ayoola\\AppData\\Roaming\\nltk_data...\n",
      "[nltk_data]   Package vader_lexicon is already up-to-date!\n"
     ]
    }
   ],
   "source": [
    "import pandas as pd\n",
    "import numpy as np\n",
    "import matplotlib.pyplot as plt\n",
    "%matplotlib inline\n",
    "import seaborn as sns\n",
    "import re\n",
    "from wordcloud import WordCloud\n",
    "import nltk\n",
    "nltk.download(['stopwords','punkt','wordnet', 'omw-1.4', 'vader_lexicon'])\n",
    "##Imports for data re-sampling\n",
    "from imblearn.over_sampling import RandomOverSampler\n",
    "from imblearn.under_sampling import RandomUnderSampler\n",
    "from collections import Counter\n",
    "##IMPORTS TO VECTORIZE FEATURES\n",
    "from sklearn.feature_extraction.text import CountVectorizer\n",
    "\n",
    "#IMport to train a Naive_bayes classification model\n",
    "from sklearn.naive_bayes import MultinomialNB\n"
   ]
  },
  {
   "cell_type": "code",
   "execution_count": 2,
   "id": "4b8e6b00-b767-44bf-9d3d-4bf71fe7a336",
   "metadata": {},
   "outputs": [],
   "source": [
    "stop_words = nltk.corpus.stopwords.words('english')\n",
    "#Global variable\n",
    "vectorizer = CountVectorizer()"
   ]
  },
  {
   "cell_type": "markdown",
   "id": "6f4de324-6007-42ba-9ec2-201939f1a51b",
   "metadata": {
    "jp-MarkdownHeadingCollapsed": true
   },
   "source": [
    "# Initializing function and Training the model"
   ]
  },
  {
   "cell_type": "code",
   "execution_count": 3,
   "id": "8ed3b239-f429-43dd-aad7-ce26ea701d4e",
   "metadata": {},
   "outputs": [],
   "source": [
    "#FUNCTION TO PROCESS DATASET\n",
    "def preprocesss_text(text):\n",
    "    tokenized_document = nltk.tokenize.RegexpTokenizer('[a-zA-Z0-9\\']+').tokenize(text)\n",
    "    cleaned_tokens = [word.lower() for word in tokenized_document if word.lower() not in stop_words]\n",
    "    stemmed_text = [nltk.stem.WordNetLemmatizer().lemmatize(word) for word in cleaned_tokens]\n",
    "    return stemmed_text"
   ]
  },
  {
   "cell_type": "code",
   "execution_count": 4,
   "id": "75482212-cf34-4bc0-8710-5b4069311e13",
   "metadata": {},
   "outputs": [],
   "source": [
    "# FUNCTION TO BALANCE DATASET\n",
    "def balance_dataset(X, y, strategy='auto'):\n",
    "    # Determine the resampling strategy\n",
    "    if strategy == 'auto':\n",
    "        # Automatically determine the resampling strategy based on class distribution\n",
    "        class_counts = Counter(y)\n",
    "        minority_class = min(class_counts, key=class_counts.get)\n",
    "        majority_class = max(class_counts, key=class_counts.get)\n",
    "        if class_counts[minority_class] < class_counts[majority_class]:\n",
    "            strategy = 'oversample'\n",
    "        else:\n",
    "            strategy = 'undersample'\n",
    "\n",
    "    # Resample the dataset\n",
    "    if strategy == 'oversample':\n",
    "        oversampler = RandomOverSampler(sampling_strategy='minority')\n",
    "        X_resampled, y_resampled = oversampler.fit_resample(X, y)\n",
    "    elif strategy == 'undersample':\n",
    "        undersampler = RandomUnderSampler(sampling_strategy='majority')\n",
    "        X_resampled, y_resampled = undersampler.fit_resample(X, y)\n",
    "    elif isinstance(strategy, dict):\n",
    "        sampler = RandomOverSampler(sampling_strategy=strategy)\n",
    "        X_resampled, y_resampled = sampler.fit_resample(X, y)\n",
    "    else:\n",
    "        raise ValueError(\"Invalid strategy. Please choose 'auto', 'oversample', 'undersample', or provide a sampling strategy dictionary.\")\n",
    "\n",
    "    return X_resampled, y_resampled\n"
   ]
  },
  {
   "cell_type": "code",
   "execution_count": 5,
   "id": "30613bb5-224c-4e5b-ad97-91506ad7b210",
   "metadata": {},
   "outputs": [],
   "source": [
    "#Function to process data and calls the preprocess function\n",
    "def process_data(file_path):\n",
    "    # Read data from CSV\n",
    "    data = pd.read_csv(file_path)\n",
    "    \n",
    "    # Apply preprocessing to 'Email' column\n",
    "    data['processed_pitch'] = data['Email'].apply(preprocesss_text)\n",
    "    \n",
    "    X = vectorizer.fit_transform(data['processed_pitch'].map(''.join))\n",
    "    \n",
    "    # Convert to DataFrame\n",
    "    X = pd.DataFrame(X.toarray())\n",
    "    \n",
    "    # Extract the target variable\n",
    "    y = data['Pitch']\n",
    "    \n",
    "    return X, y\n",
    "\n",
    "# Calling the function\n",
    "X, y = process_data('pitchclassification.csv')"
   ]
  },
  {
   "cell_type": "code",
   "execution_count": 6,
   "id": "8f7d1dc0-212e-449a-a64e-5f119f20522e",
   "metadata": {},
   "outputs": [],
   "source": [
    "X_resampled, y_resampled = balance_dataset(X, y)"
   ]
  },
  {
   "cell_type": "code",
   "execution_count": 7,
   "id": "094962f2-be81-456c-be15-9762ebdbebd7",
   "metadata": {},
   "outputs": [
    {
     "data": {
      "text/plain": [
       "<Axes: xlabel='Pitch', ylabel='count'>"
      ]
     },
     "execution_count": 7,
     "metadata": {},
     "output_type": "execute_result"
    },
    {
     "data": {
      "image/png": "[encoded data removed]",
      "text/plain": [
       "<Figure size 640x480 with 1 Axes>"
      ]
     },
     "metadata": {},
     "output_type": "display_data"
    }
   ],
   "source": [
    "sns.countplot(x= y_resampled)"
   ]
  },
  {
   "cell_type": "code",
   "execution_count": 8,
   "id": "8e9ff8e3-00d8-4924-9375-024b7c16bcc6",
   "metadata": {},
   "outputs": [
    {
     "name": "stdout",
     "output_type": "stream",
     "text": [
      "MultinomialNB()\n"
     ]
    }
   ],
   "source": [
    "def train_model(X, y):\n",
    "    # Initialize the model\n",
    "    model = MultinomialNB()\n",
    "    \n",
    "    # Fit the model to the data\n",
    "    model.fit(X, y)\n",
    "    print(model)\n",
    "    return model\n",
    "\n",
    "#Training model by calling the function\n",
    "trained_model = train_model(X_resampled, y_resampled)"
   ]
  },
  {
   "cell_type": "code",
   "execution_count": 9,
   "id": "d6e20fd3-9e59-4bb1-ae1b-872ef33ad7ad",
   "metadata": {},
   "outputs": [],
   "source": [
    "def predict_with_model(model, X_test):\n",
    "    # Make predictions on the test data\n",
    "    y_pred = model.predict(X_test)\n",
    "    \n",
    "    return y_pred\n",
    "\n",
    "# Calling function to predict for new data\n",
    "y_pred = predict_with_model(trained_model, X_resampled)"
   ]
  },
  {
   "cell_type": "markdown",
   "id": "38e7990b-4b51-47ec-9416-86e3d16e086c",
   "metadata": {
    "jp-MarkdownHeadingCollapsed": true
   },
   "source": [
    "# Running the model on new Pitch to predict"
   ]
  },
  {
   "cell_type": "code",
   "execution_count": 10,
   "id": "c7bc2b42-9fea-4457-92b0-eea721e0842a",
   "metadata": {},
   "outputs": [],
   "source": [
    "def process_new_data(file_path):\n",
    "    # Read data from CSV\n",
    "    data = pd.read_csv(file_path)\n",
    "    \n",
    "    # Apply preprocessing to 'Email' column\n",
    "    data['processed_pitch'] = data['Email'].apply(preprocesss_text)\n",
    "    \n",
    "    X = vectorizer.transform(data['processed_pitch'].map(''.join))\n",
    "    \n",
    "    # Convert to DataFrame\n",
    "    X = pd.DataFrame(X.toarray())\n",
    "    \n",
    "    # Extract the target variable\n",
    "    y = data['Pitch']\n",
    "    \n",
    "    return X, y"
   ]
  },
  {
   "cell_type": "code",
   "execution_count": 11,
   "id": "bf0a6cd1-4c3c-4ab0-a16e-5a1655c68521",
   "metadata": {},
   "outputs": [],
   "source": [
    "X_test, y_test = process_new_data('testsample.csv')"
   ]
  },
  {
   "cell_type": "markdown",
   "id": "fe2ea707-cfab-49d0-b0ac-e11052300ccf",
   "metadata": {
    "jp-MarkdownHeadingCollapsed": true
   },
   "source": [
    "## Using the trained model to predict on the new dataset"
   ]
  },
  {
   "cell_type": "code",
   "execution_count": 12,
   "id": "6dcf643b-78df-4332-b1d7-c36579ce4a70",
   "metadata": {},
   "outputs": [],
   "source": [
    "y_pred = predict_with_model(trained_model, X_test)"
   ]
  },
  {
   "cell_type": "markdown",
   "id": "ec7256f2-c2f4-4743-8cd7-8c3e4ca1b677",
   "metadata": {
    "jp-MarkdownHeadingCollapsed": true
   },
   "source": [
    "## Viewing result"
   ]
  },
  {
   "cell_type": "code",
   "execution_count": 13,
   "id": "dc5c7602-27e2-43be-82c1-8252ed0cfb6c",
   "metadata": {},
   "outputs": [
    {
     "data": {
      "text/plain": [
       "array(['Not PR pitch', 'Not PR pitch', 'Not PR pitch'], dtype='<U12')"
      ]
     },
     "execution_count": 13,
     "metadata": {},
     "output_type": "execute_result"
    }
   ],
   "source": [
    "y_pred"
   ]
  },
  {
   "cell_type": "markdown",
   "id": "aeed2a48-f78e-45cb-a914-83abc1a90142",
   "metadata": {
    "jp-MarkdownHeadingCollapsed": true
   },
   "source": [
    "# Checking model accuracy"
   ]
  },
  {
   "cell_type": "code",
   "execution_count": 14,
   "id": "3fc888d5-acb1-4bae-89b0-6bf9ed70f846",
   "metadata": {},
   "outputs": [
    {
     "name": "stdout",
     "output_type": "stream",
     "text": [
      "accuracy: 1.00\n",
      "\n",
      "\n",
      "Confusion Matrix:\n",
      "[[3]] \n",
      "\n",
      "\n",
      "---------------------------------------------------------------\n",
      "Classification Report: \n",
      "\n",
      "              precision    recall  f1-score   support\n",
      "\n",
      "Not PR pitch       1.00      1.00      1.00         3\n",
      "\n",
      "    accuracy                           1.00         3\n",
      "   macro avg       1.00      1.00      1.00         3\n",
      "weighted avg       1.00      1.00      1.00         3\n",
      "\n"
     ]
    }
   ],
   "source": [
    "from sklearn import metrics\n",
    "acc=metrics.accuracy_score(y_test,y_pred)\n",
    "\n",
    "print('accuracy: %.2f\\n\\n'%(acc))\n",
    "\n",
    "cm = metrics.confusion_matrix(y_test,y_pred)\n",
    "\n",
    "print('Confusion Matrix:')\n",
    "print(cm, '\\n\\n')\n",
    "\n",
    "print(\"---------------------------------------------------------------\")\n",
    "result = metrics.classification_report(y_test,y_pred)\n",
    "\n",
    "print('Classification Report: \\n')\n",
    "\n",
    "print(result)"
   ]
  }
 ],
 "metadata": {
  "kernelspec": {
   "display_name": "Python 3 (ipykernel)",
   "language": "python",
   "name": "python3"
  },
  "language_info": {
   "codemirror_mode": {
    "name": "ipython",
    "version": 3
   },
   "file_extension": ".py",
   "mimetype": "text/x-python",
   "name": "python",
   "nbconvert_exporter": "python",
   "pygments_lexer": "ipython3",
   "version": "3.11.4"
  }
 },
 "nbformat": 4,
 "nbformat_minor": 5
}
